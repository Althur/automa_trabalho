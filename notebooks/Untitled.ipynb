{
 "cells": [
  {
   "cell_type": "code",
   "execution_count": 9,
   "metadata": {},
   "outputs": [],
   "source": [
    "import os\n",
    "import sys \n",
    "import tabula\n",
    "\n",
    "import numpy as np\n",
    "import pandas as pd\n",
    "\n",
    "\n",
    "\n",
    "from xlrd import open_workbook\n",
    "from pdfminer.high_level import extract_text\n",
    "from PyPDF2 import PdfFileReader"
   ]
  },
  {
   "cell_type": "code",
   "execution_count": 10,
   "metadata": {},
   "outputs": [],
   "source": [
    "# C:\\Users\\ForpusCapital\\Desktop\\Arquivos teste\\Março\\pesquisa pregão - Agio-Desagio\n",
    "\"\"\"\n",
    "path_operacional = \"C:\\\\Users\\\\ForpusCapital\\\\\\\\FORPUS\\\\Operacional\"\n",
    "path_folhinha = path_operacional + \"\\\\Lote45\\\\BTC\\\\Folhinha\"\n",
    "path_data_0 = '02-2021\\\\12-02-2021'\n",
    "path_data = '02-2021\\\\17-02-2021'\n",
    "path_data_19 = '02-2021\\\\19-02-2021'\n",
    "final_path = os.path.join(path_folhinha, path_data)\n",
    "folhinha_master = 'MASTER.xls'\n",
    "#folhinha_master_csv = 'MASTER - Copia.csv'\n",
    "folhinha_master_pdf = 'MASTER.pdf'\n",
    "\n",
    "aba_folhinha_master = 'MASTER'\n",
    "\n",
    "path_master = os.path.join(final_path, folhinha_master)\n",
    "path_master_csv = os.path.join(final_path, folhinha_master_csv)\n",
    "\"\"\"\n",
    "#master_data = load_csv(path=final_path, file=folhinha_master)\n",
    "\n",
    "\n",
    "path = \"C:\\\\Users\\\\ForpusCapital\\\\Desktop\\\\Arquivos teste\\\\Março\\\\pesquisa pregão - Agio-Desagio\\\\\"\n",
    "file_name = \"MaximumTheoreticalMargin.csv\"\n",
    "file_path = path+file_name\n",
    "\n",
    "\n"
   ]
  },
  {
   "cell_type": "code",
   "execution_count": 20,
   "metadata": {},
   "outputs": [
    {
     "name": "stdout",
     "output_type": "stream",
     "text": [
      "['INSTRUMENT', 200001000000.0, '8', 'BVMF', '40,24', 'EGIE3']\n"
     ]
    }
   ],
   "source": [
    "df = pd.read_csv(file_path, sep=';')\n",
    "print(df.values.tolist()[85140])"
   ]
  },
  {
   "cell_type": "code",
   "execution_count": 24,
   "metadata": {},
   "outputs": [
    {
     "name": "stdout",
     "output_type": "stream",
     "text": [
      "['8', 'BVMF']\n",
      "['329,968', '474,831']\n",
      "['329,968', '474,831']\n",
      "['325,944', '478,855']\n",
      "['32,192', '482,879']\n",
      "['317,896', '486,903']\n",
      "['313,872', '490,927']\n",
      "['31,186', '492,939']\n",
      "['309,848', '494,951']\n",
      "['307,836', '496,963']\n",
      "['305,824', '498,975']\n",
      "['8', 'BVMF']\n"
     ]
    }
   ],
   "source": [
    "for i in range(12):\n",
    "    print(df.values.tolist()[85140+i][2:4])"
   ]
  },
  {
   "cell_type": "code",
   "execution_count": null,
   "metadata": {},
   "outputs": [],
   "source": []
  }
 ],
 "metadata": {
  "kernelspec": {
   "display_name": "Python 3",
   "language": "python",
   "name": "python3"
  },
  "language_info": {
   "codemirror_mode": {
    "name": "ipython",
    "version": 3
   },
   "file_extension": ".py",
   "mimetype": "text/x-python",
   "name": "python",
   "nbconvert_exporter": "python",
   "pygments_lexer": "ipython3",
   "version": "3.8.5"
  }
 },
 "nbformat": 4,
 "nbformat_minor": 4
}
